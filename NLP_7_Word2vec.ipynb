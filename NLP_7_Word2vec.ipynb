{
  "nbformat": 4,
  "nbformat_minor": 0,
  "metadata": {
    "colab": {
      "name": "NLP 7 - Word2vec.ipynb",
      "provenance": []
    },
    "kernelspec": {
      "name": "python3",
      "display_name": "Python 3"
    }
  },
  "cells": [
    {
      "cell_type": "code",
      "metadata": {
        "id": "EEyjRA3ujGjT"
      },
      "source": [
        "# Word2Vec do not loose semantics in word meaning and word similarity"
      ],
      "execution_count": 39,
      "outputs": []
    },
    {
      "cell_type": "code",
      "metadata": {
        "id": "drJOuBv4RGsc"
      },
      "source": [
        "import nltk\n",
        "\n",
        "from gensim.models import Word2Vec\n",
        "from nltk.corpus import stopwords"
      ],
      "execution_count": 8,
      "outputs": []
    },
    {
      "cell_type": "code",
      "metadata": {
        "id": "cu-A7OdKhCFE",
        "outputId": "bb00d527-3608-48ba-9892-83f221f8ba8b",
        "colab": {
          "base_uri": "https://localhost:8080/"
        }
      },
      "source": [
        "nltk.download('punkt')                #Used in google colab\n",
        "nltk.download('stopwords')            #Used in google colab"
      ],
      "execution_count": 23,
      "outputs": [
        {
          "output_type": "stream",
          "text": [
            "[nltk_data] Downloading package punkt to /root/nltk_data...\n",
            "[nltk_data]   Package punkt is already up-to-date!\n",
            "[nltk_data] Downloading package stopwords to /root/nltk_data...\n",
            "[nltk_data]   Unzipping corpora/stopwords.zip.\n"
          ],
          "name": "stdout"
        },
        {
          "output_type": "execute_result",
          "data": {
            "text/plain": [
              "True"
            ]
          },
          "metadata": {
            "tags": []
          },
          "execution_count": 23
        }
      ]
    },
    {
      "cell_type": "code",
      "metadata": {
        "id": "rv8IImTwRHi1"
      },
      "source": [
        "import re"
      ],
      "execution_count": 19,
      "outputs": []
    },
    {
      "cell_type": "code",
      "metadata": {
        "id": "JyFTK4ooRPoL"
      },
      "source": [
        "paragraph = \"\"\"I have three visions for India. In 3000 years of our history, people from all over \n",
        "               the world have come and invaded us, captured our lands, conquered our minds. \n",
        "               From Alexander onwards, the Greeks, the Turks, the Moguls, the Portuguese, the British,\n",
        "               the French, the Dutch, all of them came and looted us, took over what was ours. \n",
        "               Yet we have not done this to any other nation. We have not conquered anyone. \n",
        "               We have not grabbed their land, their culture, \n",
        "               their history and tried to enforce our way of life on them. \n",
        "               Why? Because we respect the freedom of others.That is why my \n",
        "               first vision is that of freedom. I believe that India got its first vision of \n",
        "               this in 1857, when we started the War of Independence. It is this freedom that\n",
        "               we must protect and nurture and build on. If we are not free, no one will respect us.\n",
        "               My second vision for India’s development. For fifty years we have been a developing nation.\n",
        "               It is time we see ourselves as a developed nation. We are among the top 5 nations of the world\n",
        "               in terms of GDP. We have a 10 percent growth rate in most areas. Our poverty levels are falling.\n",
        "               Our achievements are being globally recognised today. Yet we lack the self-confidence to\n",
        "               see ourselves as a developed nation, self-reliant and self-assured. Isn’t this incorrect?\n",
        "               I have a third vision. India must stand up to the world. Because I believe that unless India \n",
        "               stands up to the world, no one will respect us. Only strength respects strength. We must be \n",
        "               strong not only as a military power but also as an economic power. Both must go hand-in-hand. \n",
        "               My good fortune was to have worked with three great minds. Dr. Vikram Sarabhai of the Dept. of \n",
        "               space, Professor Satish Dhawan, who succeeded him and Dr. Brahm Prakash, father of nuclear material.\n",
        "               I was lucky to have worked with all three of them closely and consider this the great opportunity of my life. \n",
        "               I see four milestones in my career\"\"\""
      ],
      "execution_count": 20,
      "outputs": []
    },
    {
      "cell_type": "code",
      "metadata": {
        "id": "J6e7vyacRSOY",
        "outputId": "feeff01b-d2da-4e7b-ea6c-ae497d9204f6",
        "colab": {
          "base_uri": "https://localhost:8080/",
          "height": 124
        }
      },
      "source": [
        "# Preprocessing the data\n",
        "text = re.sub(r'\\[[0-9]*\\]',' ',paragraph)  #substituting everythig (apart from numeric) with  ' '\n",
        "text = re.sub(r'\\s+',' ',text)\n",
        "text = text.lower()\n",
        "text = re.sub(r'\\d',' ',text)\n",
        "text = re.sub(r'\\s+',' ',text)\n",
        "\n",
        "text\n"
      ],
      "execution_count": 27,
      "outputs": [
        {
          "output_type": "execute_result",
          "data": {
            "application/vnd.google.colaboratory.intrinsic+json": {
              "type": "string"
            },
            "text/plain": [
              "'i have three visions for india. in years of our history, people from all over the world have come and invaded us, captured our lands, conquered our minds. from alexander onwards, the greeks, the turks, the moguls, the portuguese, the british, the french, the dutch, all of them came and looted us, took over what was ours. yet we have not done this to any other nation. we have not conquered anyone. we have not grabbed their land, their culture, their history and tried to enforce our way of life on them. why? because we respect the freedom of others.that is why my first vision is that of freedom. i believe that india got its first vision of this in , when we started the war of independence. it is this freedom that we must protect and nurture and build on. if we are not free, no one will respect us. my second vision for india’s development. for fifty years we have been a developing nation. it is time we see ourselves as a developed nation. we are among the top nations of the world in terms of gdp. we have a percent growth rate in most areas. our poverty levels are falling. our achievements are being globally recognised today. yet we lack the self-confidence to see ourselves as a developed nation, self-reliant and self-assured. isn’t this incorrect? i have a third vision. india must stand up to the world. because i believe that unless india stands up to the world, no one will respect us. only strength respects strength. we must be strong not only as a military power but also as an economic power. both must go hand-in-hand. my good fortune was to have worked with three great minds. dr. vikram sarabhai of the dept. of space, professor satish dhawan, who succeeded him and dr. brahm prakash, father of nuclear material. i was lucky to have worked with all three of them closely and consider this the great opportunity of my life. i see four milestones in my career'"
            ]
          },
          "metadata": {
            "tags": []
          },
          "execution_count": 27
        }
      ]
    },
    {
      "cell_type": "code",
      "metadata": {
        "id": "sPX-F3i3RVz6",
        "outputId": "18a7c55a-1389-45b3-e868-6180a2d3d915",
        "colab": {
          "base_uri": "https://localhost:8080/"
        }
      },
      "source": [
        "# Preparing the dataset\n",
        "sentences = nltk.sent_tokenize(text)\n",
        "\n",
        "sentences = [nltk.word_tokenize(sentence) for sentence in sentences]                               \n",
        "\n",
        "for i in range(len(sentences)):\n",
        "    sentences[i] = [word for word in sentences[i] if word not in stopwords.words('english')]          #removing stopwords\n",
        "\n",
        "\n",
        "sentences"
      ],
      "execution_count": 28,
      "outputs": [
        {
          "output_type": "execute_result",
          "data": {
            "text/plain": [
              "[['three', 'visions', 'india', '.'],\n",
              " ['years',\n",
              "  'history',\n",
              "  ',',\n",
              "  'people',\n",
              "  'world',\n",
              "  'come',\n",
              "  'invaded',\n",
              "  'us',\n",
              "  ',',\n",
              "  'captured',\n",
              "  'lands',\n",
              "  ',',\n",
              "  'conquered',\n",
              "  'minds',\n",
              "  '.'],\n",
              " ['alexander',\n",
              "  'onwards',\n",
              "  ',',\n",
              "  'greeks',\n",
              "  ',',\n",
              "  'turks',\n",
              "  ',',\n",
              "  'moguls',\n",
              "  ',',\n",
              "  'portuguese',\n",
              "  ',',\n",
              "  'british',\n",
              "  ',',\n",
              "  'french',\n",
              "  ',',\n",
              "  'dutch',\n",
              "  ',',\n",
              "  'came',\n",
              "  'looted',\n",
              "  'us',\n",
              "  ',',\n",
              "  'took',\n",
              "  '.'],\n",
              " ['yet', 'done', 'nation', '.'],\n",
              " ['conquered', 'anyone', '.'],\n",
              " ['grabbed',\n",
              "  'land',\n",
              "  ',',\n",
              "  'culture',\n",
              "  ',',\n",
              "  'history',\n",
              "  'tried',\n",
              "  'enforce',\n",
              "  'way',\n",
              "  'life',\n",
              "  '.'],\n",
              " ['?'],\n",
              " ['respect', 'freedom', 'others.that', 'first', 'vision', 'freedom', '.'],\n",
              " ['believe',\n",
              "  'india',\n",
              "  'got',\n",
              "  'first',\n",
              "  'vision',\n",
              "  ',',\n",
              "  'started',\n",
              "  'war',\n",
              "  'independence',\n",
              "  '.'],\n",
              " ['freedom', 'must', 'protect', 'nurture', 'build', '.'],\n",
              " ['free', ',', 'one', 'respect', 'us', '.'],\n",
              " ['second', 'vision', 'india', '’', 'development', '.'],\n",
              " ['fifty', 'years', 'developing', 'nation', '.'],\n",
              " ['time', 'see', 'developed', 'nation', '.'],\n",
              " ['among', 'top', 'nations', 'world', 'terms', 'gdp', '.'],\n",
              " ['percent', 'growth', 'rate', 'areas', '.'],\n",
              " ['poverty', 'levels', 'falling', '.'],\n",
              " ['achievements', 'globally', 'recognised', 'today', '.'],\n",
              " ['yet',\n",
              "  'lack',\n",
              "  'self-confidence',\n",
              "  'see',\n",
              "  'developed',\n",
              "  'nation',\n",
              "  ',',\n",
              "  'self-reliant',\n",
              "  'self-assured',\n",
              "  '.'],\n",
              " ['’', 'incorrect', '?'],\n",
              " ['third', 'vision', '.'],\n",
              " ['india', 'must', 'stand', 'world', '.'],\n",
              " ['believe',\n",
              "  'unless',\n",
              "  'india',\n",
              "  'stands',\n",
              "  'world',\n",
              "  ',',\n",
              "  'one',\n",
              "  'respect',\n",
              "  'us',\n",
              "  '.'],\n",
              " ['strength', 'respects', 'strength', '.'],\n",
              " ['must', 'strong', 'military', 'power', 'also', 'economic', 'power', '.'],\n",
              " ['must', 'go', 'hand-in-hand', '.'],\n",
              " ['good', 'fortune', 'worked', 'three', 'great', 'minds', '.'],\n",
              " ['dr.', 'vikram', 'sarabhai', 'dept', '.'],\n",
              " ['space',\n",
              "  ',',\n",
              "  'professor',\n",
              "  'satish',\n",
              "  'dhawan',\n",
              "  ',',\n",
              "  'succeeded',\n",
              "  'dr.',\n",
              "  'brahm',\n",
              "  'prakash',\n",
              "  ',',\n",
              "  'father',\n",
              "  'nuclear',\n",
              "  'material',\n",
              "  '.'],\n",
              " ['lucky',\n",
              "  'worked',\n",
              "  'three',\n",
              "  'closely',\n",
              "  'consider',\n",
              "  'great',\n",
              "  'opportunity',\n",
              "  'life',\n",
              "  '.'],\n",
              " ['see', 'four', 'milestones', 'career']]"
            ]
          },
          "metadata": {
            "tags": []
          },
          "execution_count": 28
        }
      ]
    },
    {
      "cell_type": "code",
      "metadata": {
        "id": "T3olQlAURsUY",
        "outputId": "ef541100-6ddd-496b-d341-1f6b6a98bcfb",
        "colab": {
          "base_uri": "https://localhost:8080/"
        }
      },
      "source": [
        "# Training the Word2Vec model\n",
        "model = Word2Vec(sentences, min_count=1)\n",
        "words = model.wv.vocab\n",
        "\n",
        "words                                #Creating vectors/dimensions of words"
      ],
      "execution_count": 33,
      "outputs": [
        {
          "output_type": "execute_result",
          "data": {
            "text/plain": [
              "{',': <gensim.models.keyedvectors.Vocab at 0x7f128b6c8b00>,\n",
              " '.': <gensim.models.keyedvectors.Vocab at 0x7f128b698da0>,\n",
              " '?': <gensim.models.keyedvectors.Vocab at 0x7f128a906550>,\n",
              " 'achievements': <gensim.models.keyedvectors.Vocab at 0x7f128a9016d8>,\n",
              " 'alexander': <gensim.models.keyedvectors.Vocab at 0x7f128a93fdd8>,\n",
              " 'also': <gensim.models.keyedvectors.Vocab at 0x7f128a901c88>,\n",
              " 'among': <gensim.models.keyedvectors.Vocab at 0x7f128a906b00>,\n",
              " 'anyone': <gensim.models.keyedvectors.Vocab at 0x7f128a93f128>,\n",
              " 'areas': <gensim.models.keyedvectors.Vocab at 0x7f128a901ba8>,\n",
              " 'believe': <gensim.models.keyedvectors.Vocab at 0x7f128a906518>,\n",
              " 'brahm': <gensim.models.keyedvectors.Vocab at 0x7f128a9015c0>,\n",
              " 'british': <gensim.models.keyedvectors.Vocab at 0x7f128a93fa90>,\n",
              " 'build': <gensim.models.keyedvectors.Vocab at 0x7f128a906588>,\n",
              " 'came': <gensim.models.keyedvectors.Vocab at 0x7f128a93f400>,\n",
              " 'captured': <gensim.models.keyedvectors.Vocab at 0x7f128a93f9e8>,\n",
              " 'career': <gensim.models.keyedvectors.Vocab at 0x7f128a901f60>,\n",
              " 'closely': <gensim.models.keyedvectors.Vocab at 0x7f128a9012b0>,\n",
              " 'come': <gensim.models.keyedvectors.Vocab at 0x7f128a93f358>,\n",
              " 'conquered': <gensim.models.keyedvectors.Vocab at 0x7f128a93f6a0>,\n",
              " 'consider': <gensim.models.keyedvectors.Vocab at 0x7f128a901470>,\n",
              " 'culture': <gensim.models.keyedvectors.Vocab at 0x7f128a93ffd0>,\n",
              " 'dept': <gensim.models.keyedvectors.Vocab at 0x7f128a9011d0>,\n",
              " 'developed': <gensim.models.keyedvectors.Vocab at 0x7f128a9067b8>,\n",
              " 'developing': <gensim.models.keyedvectors.Vocab at 0x7f128a9068d0>,\n",
              " 'development': <gensim.models.keyedvectors.Vocab at 0x7f128a906dd8>,\n",
              " 'dhawan': <gensim.models.keyedvectors.Vocab at 0x7f128a9010b8>,\n",
              " 'done': <gensim.models.keyedvectors.Vocab at 0x7f128a93f470>,\n",
              " 'dr.': <gensim.models.keyedvectors.Vocab at 0x7f128a9012e8>,\n",
              " 'dutch': <gensim.models.keyedvectors.Vocab at 0x7f128a93f588>,\n",
              " 'economic': <gensim.models.keyedvectors.Vocab at 0x7f128a9019b0>,\n",
              " 'enforce': <gensim.models.keyedvectors.Vocab at 0x7f128a906048>,\n",
              " 'falling': <gensim.models.keyedvectors.Vocab at 0x7f128a901748>,\n",
              " 'father': <gensim.models.keyedvectors.Vocab at 0x7f128a9013c8>,\n",
              " 'fifty': <gensim.models.keyedvectors.Vocab at 0x7f128a9069e8>,\n",
              " 'first': <gensim.models.keyedvectors.Vocab at 0x7f128a906208>,\n",
              " 'fortune': <gensim.models.keyedvectors.Vocab at 0x7f128a901240>,\n",
              " 'four': <gensim.models.keyedvectors.Vocab at 0x7f128a9015f8>,\n",
              " 'free': <gensim.models.keyedvectors.Vocab at 0x7f128a906d68>,\n",
              " 'freedom': <gensim.models.keyedvectors.Vocab at 0x7f128a906908>,\n",
              " 'french': <gensim.models.keyedvectors.Vocab at 0x7f128a93fa58>,\n",
              " 'gdp': <gensim.models.keyedvectors.Vocab at 0x7f128a901e80>,\n",
              " 'globally': <gensim.models.keyedvectors.Vocab at 0x7f128a901518>,\n",
              " 'go': <gensim.models.keyedvectors.Vocab at 0x7f128a9017f0>,\n",
              " 'good': <gensim.models.keyedvectors.Vocab at 0x7f128a901630>,\n",
              " 'got': <gensim.models.keyedvectors.Vocab at 0x7f128a9060b8>,\n",
              " 'grabbed': <gensim.models.keyedvectors.Vocab at 0x7f128a93f4a8>,\n",
              " 'great': <gensim.models.keyedvectors.Vocab at 0x7f128a901550>,\n",
              " 'greeks': <gensim.models.keyedvectors.Vocab at 0x7f128a93fcf8>,\n",
              " 'growth': <gensim.models.keyedvectors.Vocab at 0x7f128a901d68>,\n",
              " 'hand-in-hand': <gensim.models.keyedvectors.Vocab at 0x7f128a9017b8>,\n",
              " 'history': <gensim.models.keyedvectors.Vocab at 0x7f128b6c8ba8>,\n",
              " 'incorrect': <gensim.models.keyedvectors.Vocab at 0x7f128a901978>,\n",
              " 'independence': <gensim.models.keyedvectors.Vocab at 0x7f128a906b70>,\n",
              " 'india': <gensim.models.keyedvectors.Vocab at 0x7f128b698f98>,\n",
              " 'invaded': <gensim.models.keyedvectors.Vocab at 0x7f128a93f5f8>,\n",
              " 'lack': <gensim.models.keyedvectors.Vocab at 0x7f128a901160>,\n",
              " 'land': <gensim.models.keyedvectors.Vocab at 0x7f128a93fe80>,\n",
              " 'lands': <gensim.models.keyedvectors.Vocab at 0x7f128a93fef0>,\n",
              " 'levels': <gensim.models.keyedvectors.Vocab at 0x7f128a901a58>,\n",
              " 'life': <gensim.models.keyedvectors.Vocab at 0x7f128a906da0>,\n",
              " 'looted': <gensim.models.keyedvectors.Vocab at 0x7f128a93f240>,\n",
              " 'lucky': <gensim.models.keyedvectors.Vocab at 0x7f128a9019e8>,\n",
              " 'material': <gensim.models.keyedvectors.Vocab at 0x7f128a901710>,\n",
              " 'milestones': <gensim.models.keyedvectors.Vocab at 0x7f128a901cc0>,\n",
              " 'military': <gensim.models.keyedvectors.Vocab at 0x7f128a901d30>,\n",
              " 'minds': <gensim.models.keyedvectors.Vocab at 0x7f128a93fe48>,\n",
              " 'moguls': <gensim.models.keyedvectors.Vocab at 0x7f128a93fc18>,\n",
              " 'must': <gensim.models.keyedvectors.Vocab at 0x7f128a906c88>,\n",
              " 'nation': <gensim.models.keyedvectors.Vocab at 0x7f128a93f8d0>,\n",
              " 'nations': <gensim.models.keyedvectors.Vocab at 0x7f128a901f98>,\n",
              " 'nuclear': <gensim.models.keyedvectors.Vocab at 0x7f128a901e10>,\n",
              " 'nurture': <gensim.models.keyedvectors.Vocab at 0x7f128a906748>,\n",
              " 'one': <gensim.models.keyedvectors.Vocab at 0x7f128a906eb8>,\n",
              " 'onwards': <gensim.models.keyedvectors.Vocab at 0x7f128a93fd30>,\n",
              " 'opportunity': <gensim.models.keyedvectors.Vocab at 0x7f128a901320>,\n",
              " 'others.that': <gensim.models.keyedvectors.Vocab at 0x7f128a906a90>,\n",
              " 'people': <gensim.models.keyedvectors.Vocab at 0x7f128b6c8e48>,\n",
              " 'percent': <gensim.models.keyedvectors.Vocab at 0x7f128a901da0>,\n",
              " 'portuguese': <gensim.models.keyedvectors.Vocab at 0x7f128a93fba8>,\n",
              " 'poverty': <gensim.models.keyedvectors.Vocab at 0x7f128a901b38>,\n",
              " 'power': <gensim.models.keyedvectors.Vocab at 0x7f128a901a90>,\n",
              " 'prakash': <gensim.models.keyedvectors.Vocab at 0x7f128a901588>,\n",
              " 'professor': <gensim.models.keyedvectors.Vocab at 0x7f128a901128>,\n",
              " 'protect': <gensim.models.keyedvectors.Vocab at 0x7f128a906b38>,\n",
              " 'rate': <gensim.models.keyedvectors.Vocab at 0x7f128a901cf8>,\n",
              " 'recognised': <gensim.models.keyedvectors.Vocab at 0x7f128a901438>,\n",
              " 'respect': <gensim.models.keyedvectors.Vocab at 0x7f128a906978>,\n",
              " 'respects': <gensim.models.keyedvectors.Vocab at 0x7f128a901b00>,\n",
              " 'sarabhai': <gensim.models.keyedvectors.Vocab at 0x7f128a901390>,\n",
              " 'satish': <gensim.models.keyedvectors.Vocab at 0x7f128a901048>,\n",
              " 'second': <gensim.models.keyedvectors.Vocab at 0x7f128a906630>,\n",
              " 'see': <gensim.models.keyedvectors.Vocab at 0x7f128a906828>,\n",
              " 'self-assured': <gensim.models.keyedvectors.Vocab at 0x7f128a901860>,\n",
              " 'self-confidence': <gensim.models.keyedvectors.Vocab at 0x7f128a901080>,\n",
              " 'self-reliant': <gensim.models.keyedvectors.Vocab at 0x7f128a901e48>,\n",
              " 'space': <gensim.models.keyedvectors.Vocab at 0x7f128a9010f0>,\n",
              " 'stand': <gensim.models.keyedvectors.Vocab at 0x7f128a901be0>,\n",
              " 'stands': <gensim.models.keyedvectors.Vocab at 0x7f128a901a20>,\n",
              " 'started': <gensim.models.keyedvectors.Vocab at 0x7f128a906860>,\n",
              " 'strength': <gensim.models.keyedvectors.Vocab at 0x7f128a901ac8>,\n",
              " 'strong': <gensim.models.keyedvectors.Vocab at 0x7f128a901dd8>,\n",
              " 'succeeded': <gensim.models.keyedvectors.Vocab at 0x7f128a901358>,\n",
              " 'terms': <gensim.models.keyedvectors.Vocab at 0x7f128a901f28>,\n",
              " 'third': <gensim.models.keyedvectors.Vocab at 0x7f128a901c18>,\n",
              " 'three': <gensim.models.keyedvectors.Vocab at 0x7f128b698c88>,\n",
              " 'time': <gensim.models.keyedvectors.Vocab at 0x7f128a906898>,\n",
              " 'today': <gensim.models.keyedvectors.Vocab at 0x7f128a901208>,\n",
              " 'took': <gensim.models.keyedvectors.Vocab at 0x7f128a93f1d0>,\n",
              " 'top': <gensim.models.keyedvectors.Vocab at 0x7f128a901fd0>,\n",
              " 'tried': <gensim.models.keyedvectors.Vocab at 0x7f128a93f438>,\n",
              " 'turks': <gensim.models.keyedvectors.Vocab at 0x7f128a93fcc0>,\n",
              " 'unless': <gensim.models.keyedvectors.Vocab at 0x7f128a901b70>,\n",
              " 'us': <gensim.models.keyedvectors.Vocab at 0x7f128a93f860>,\n",
              " 'vikram': <gensim.models.keyedvectors.Vocab at 0x7f128a901400>,\n",
              " 'vision': <gensim.models.keyedvectors.Vocab at 0x7f128a906f28>,\n",
              " 'visions': <gensim.models.keyedvectors.Vocab at 0x7f128b698d68>,\n",
              " 'war': <gensim.models.keyedvectors.Vocab at 0x7f128a906780>,\n",
              " 'way': <gensim.models.keyedvectors.Vocab at 0x7f128a9060f0>,\n",
              " 'worked': <gensim.models.keyedvectors.Vocab at 0x7f128a901278>,\n",
              " 'world': <gensim.models.keyedvectors.Vocab at 0x7f128a93f550>,\n",
              " 'years': <gensim.models.keyedvectors.Vocab at 0x7f128b6c89b0>,\n",
              " 'yet': <gensim.models.keyedvectors.Vocab at 0x7f128a93f160>,\n",
              " '’': <gensim.models.keyedvectors.Vocab at 0x7f128a906940>}"
            ]
          },
          "metadata": {
            "tags": []
          },
          "execution_count": 33
        }
      ]
    },
    {
      "cell_type": "code",
      "metadata": {
        "id": "78uuZXzwhBDf",
        "outputId": "61c3716f-7ad7-44ee-a318-c44e3bf68abc",
        "colab": {
          "base_uri": "https://localhost:8080/"
        }
      },
      "source": [
        "# Finding Word Vectors\n",
        "vector = model.wv['war']\n",
        "\n",
        "vector"
      ],
      "execution_count": 35,
      "outputs": [
        {
          "output_type": "execute_result",
          "data": {
            "text/plain": [
              "array([ 4.7723972e-03, -1.7278937e-03,  3.2111597e-03,  1.2051233e-03,\n",
              "        2.0983315e-03, -3.4054986e-03,  1.9941167e-03, -3.2764312e-03,\n",
              "        3.0121824e-03,  4.0946566e-03,  3.6562618e-03, -3.3289841e-03,\n",
              "        1.6791744e-03,  2.7508126e-03, -3.3744040e-03,  2.2124825e-03,\n",
              "       -1.4768090e-03,  1.9168130e-03,  2.7991764e-03,  2.4461835e-03,\n",
              "       -2.4127562e-03,  3.4486293e-03,  1.8751206e-03, -3.6095565e-03,\n",
              "        1.9673777e-03, -4.8434539e-03, -3.8983994e-03, -8.9251372e-04,\n",
              "       -4.7286279e-03,  8.3109244e-06,  3.7481277e-03, -4.4916463e-03,\n",
              "       -7.9497654e-04, -2.6143782e-03, -1.2165426e-03,  8.4125780e-04,\n",
              "       -4.6576904e-03, -4.5530726e-03, -2.3638918e-03, -3.3907292e-03,\n",
              "       -2.6576917e-03, -2.9731489e-04, -6.7016418e-04, -2.8059667e-05,\n",
              "       -4.6274173e-03, -9.4584620e-04, -1.0741169e-03,  4.3594725e-03,\n",
              "       -1.4314926e-03,  2.2914761e-03, -5.7007530e-04, -3.3817773e-03,\n",
              "       -1.4019250e-03,  3.3551613e-03,  2.7208661e-03,  2.8194771e-03,\n",
              "       -3.5026430e-03,  2.2341779e-03, -3.9777318e-03, -2.7258468e-03,\n",
              "       -2.9341285e-03, -3.3931106e-03, -1.1507894e-03,  1.0012964e-03,\n",
              "        4.3965894e-04,  3.4898545e-03, -2.9428280e-03,  3.4771145e-03,\n",
              "       -4.9324296e-03,  5.2755425e-04,  4.8291618e-03, -2.9866437e-03,\n",
              "        4.9010143e-03,  1.6107855e-03,  4.8906477e-03, -1.6719623e-03,\n",
              "       -1.6578924e-03, -4.5621465e-04,  2.5978268e-03, -2.1983529e-03,\n",
              "        4.0024656e-04,  3.3400641e-03,  2.5602332e-03,  3.7146320e-03,\n",
              "       -2.3930159e-03,  1.3157538e-03, -2.2798253e-03, -2.7352497e-03,\n",
              "       -2.8675222e-03,  1.9225994e-03,  3.0828377e-03, -1.3222010e-03,\n",
              "       -4.8479005e-03,  1.4178964e-03, -2.8663825e-03, -9.6554880e-04,\n",
              "       -4.4777500e-03, -4.1467384e-03, -3.6815652e-03, -2.2150511e-03],\n",
              "      dtype=float32)"
            ]
          },
          "metadata": {
            "tags": []
          },
          "execution_count": 35
        }
      ]
    },
    {
      "cell_type": "code",
      "metadata": {
        "id": "lMq7WQp_i2CF",
        "outputId": "42d6ff8a-76a2-4ea4-acc0-76befef7015a",
        "colab": {
          "base_uri": "https://localhost:8080/"
        }
      },
      "source": [
        "# Most similar words\n",
        "similar = model.wv.most_similar('vikram')\n",
        "\n",
        "similar"
      ],
      "execution_count": 37,
      "outputs": [
        {
          "output_type": "stream",
          "text": [
            "/usr/local/lib/python3.6/dist-packages/gensim/matutils.py:737: FutureWarning: Conversion of the second argument of issubdtype from `int` to `np.signedinteger` is deprecated. In future, it will be treated as `np.int64 == np.dtype(int).type`.\n",
            "  if np.issubdtype(vec.dtype, np.int):\n"
          ],
          "name": "stderr"
        },
        {
          "output_type": "execute_result",
          "data": {
            "text/plain": [
              "[('space', 0.2620648145675659),\n",
              " ('rate', 0.25371992588043213),\n",
              " ('lands', 0.2425461709499359),\n",
              " ('incorrect', 0.22334983944892883),\n",
              " ('moguls', 0.2122294008731842),\n",
              " ('dept', 0.18508292734622955),\n",
              " ('us', 0.16577017307281494),\n",
              " ('respect', 0.15733347833156586),\n",
              " ('nurture', 0.15132181346416473),\n",
              " ('strength', 0.15045315027236938)]"
            ]
          },
          "metadata": {
            "tags": []
          },
          "execution_count": 37
        }
      ]
    },
    {
      "cell_type": "code",
      "metadata": {
        "id": "DY2XWXtEi6Kz"
      },
      "source": [
        ""
      ],
      "execution_count": null,
      "outputs": []
    }
  ]
}